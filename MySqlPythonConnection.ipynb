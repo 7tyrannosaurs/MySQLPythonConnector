{
 "cells": [
  {
   "cell_type": "code",
   "execution_count": null,
   "metadata": {},
   "outputs": [],
   "source": [
    "#Создаем config для подключения к нашей базе данных с помощью имеющихся данных о сервере:"
   ]
  },
  {
   "cell_type": "code",
   "execution_count": 32,
   "metadata": {},
   "outputs": [],
   "source": [
    "from configparser import ConfigParser\n",
    " \n",
    "def read_db_config(filename='config.ini', section='mysql'):\n",
    "    \n",
    "    parser = ConfigParser()\n",
    "    parser.read(filename)\n",
    " \n",
    "    db = {}\n",
    "    if parser.has_section(section):\n",
    "        items = parser.items(section)\n",
    "        for item in items:\n",
    "            db[item[0]] = item[1]\n",
    "    else:\n",
    "        raise Exception('{0} not found in the {1} file'.format(section, filename))\n",
    " \n",
    "    return db"
   ]
  },
  {
   "cell_type": "code",
   "execution_count": 34,
   "metadata": {
    "scrolled": true
   },
   "outputs": [
    {
     "data": {
      "text/plain": [
       "{'database': 'python_mysql',\n",
       " 'host': 'localhost',\n",
       " 'password': 'root',\n",
       " 'user': 'root'}"
      ]
     },
     "execution_count": 34,
     "metadata": {},
     "output_type": "execute_result"
    }
   ],
   "source": [
    "from python_mysql_dbconfig import read_db_config\n",
    "read_db_config()"
   ]
  },
  {
   "cell_type": "code",
   "execution_count": null,
   "metadata": {},
   "outputs": [],
   "source": [
    "#Проверяем возможность подключения к нашей базе данных:"
   ]
  },
  {
   "cell_type": "code",
   "execution_count": 66,
   "metadata": {},
   "outputs": [
    {
     "name": "stdout",
     "output_type": "stream",
     "text": [
      "Connecting to MySQL database...\n",
      "connection established.\n",
      "Connection closed.\n"
     ]
    }
   ],
   "source": [
    "from mysql.connector import MySQLConnection, Error\n",
    "from python_mysql_dbconfig import read_db_config\n",
    " \n",
    "def connect():\n",
    "    db_config = read_db_config()\n",
    " \n",
    "    try:\n",
    "        print('Connecting to MySQL database...')\n",
    "        conn = MySQLConnection(**db_config)\n",
    " \n",
    "        if conn.is_connected():\n",
    "            print('connection established.')\n",
    "        else:\n",
    "            print('connection failed.')\n",
    " \n",
    "    except Error as error:\n",
    "        print(error)\n",
    " \n",
    "    finally:\n",
    "        conn.close()\n",
    "        print('Connection closed.')\n",
    "\n",
    "if __name__ == '__main__':\n",
    "    connect()"
   ]
  },
  {
   "cell_type": "code",
   "execution_count": null,
   "metadata": {},
   "outputs": [],
   "source": [
    "#Модуль вызова данных из определенной таблицы нашей БД:"
   ]
  },
  {
   "cell_type": "code",
   "execution_count": 75,
   "metadata": {},
   "outputs": [
    {
     "name": "stdout",
     "output_type": "stream",
     "text": [
      "(1, 'Bel and the Dragon ', '123828863494')\n",
      "(2, 'Daughters of Men ', '1234404543724')\n",
      "(3, 'The Giant on the Hill ', '1236400967773')\n",
      "(4, 'Marsh Lights ', '1233673027750')\n",
      "(5, 'Mr. Wodehouse and the Wild Girl ', '1232423190947')\n",
      "(6, 'The Fairy Castle ', '1237654836443')\n",
      "(7, 'The Girl Who Walked a Long Way ', '1230211946720')\n",
      "(8, 'The Runaway ', '1238155430735')\n",
      "(9, 'The Shrubbery ', '1237366725549')\n",
      "(10, 'Tom Underground a play ', '1239633328787')\n",
      "(11, 'Anemones of the British Coast ', '1233540471995')\n",
      "(12, 'Ask to Embla poem-cycle ', '1237417184084')\n",
      "(13, 'Cassandra verse drama ', '1235260611012')\n",
      "(14, 'Chidiock Tichbourne ', '1230468662299')\n",
      "(15, 'The City of Is ', '1233136349197')\n",
      "(16, 'Cromwell verse drama ', '1239653041219')\n",
      "(17, 'Debatable Land Between This World and the Next ', '1235927658929')\n",
      "(18, 'The Fairy Melusina epic poem ', '1232341278470')\n",
      "(19, 'The Garden of Proserpina ', '1234685512892')\n",
      "(20, 'Gods Men and Heroes ', '1233369260356')\n",
      "(21, 'The Great Collector ', '1237871538785')\n",
      "(22, 'The Grecian Way of Love ', '1234003421055')\n",
      "(23, 'The Incarcerated Sorceress ', '1233804025236')\n",
      "(24, 'Last Tales ', '1231588537286')\n",
      "(25, 'Last Things ', '1239338429682')\n",
      "(26, 'Mummy Possest poem ', '1239409501196')\n",
      "(27, 'No Place Like home ', '1239416066484')\n",
      "(28, 'Pranks of Priapus ', '1231359225882')\n",
      "(29, 'Ragnarök ', '1230741986307')\n",
      "(30, 'The Shadowy Portal ', '1232294350642')\n",
      "(31, 'Jan Swammerdam poem ', '1238329678939')\n",
      "(32, \"St. Bartholomew's Eve verse drama \", '1230082140880')\n",
      "(33, 'Tales for innocents ', '1234392912372')\n",
      "(34, 'Tales Told in November ', '1234549242464')\n",
      "(35, 'Bel and the Dragon ', '1239374496485')\n",
      "(36, 'Daughters of Men ', '1235349316660')\n",
      "(37, 'The Giant on the Hill *** TEST ***', '1235644620578')\n",
      "(38, 'Marsh Lights ', '1235736344898')\n",
      "(39, 'Mr. Wodehouse and the Wild Girl ', '1232744187226')\n",
      "(40, 'The Fairy Castle ', '1233729213076')\n",
      "(41, 'The Girl Who Walked a Long Way ', '1237641884608')\n",
      "(42, 'The Runaway ', '1233964452155')\n",
      "(43, 'The Shrubbery ', '1231273626499')\n",
      "(44, 'Tom Underground a play ', '1238441018900')\n",
      "(45, 'In A Future Chalet School Girl: Mystery at Heron Lake ', '1231377433718')\n",
      "(46, 'In Althea Joins the Chalet School: The Secret of Castle Dancing ', '1232395135758')\n",
      "(47, 'In Carola Storms the Chalet School: The Rose Patrol in the Alps ', '1234185299775')\n",
      "(48, 'In The Chalet School Goes To It: Gipsy Jocelyn ', '1234645928899')\n",
      "(49, 'In Gay from China at the Chalet School: Indian Holiday and Nancy Meets a Nazi ', '1230275004688')\n",
      "(50, 'In Jo Returns to the Chalet School: Cecily Holds the Fort and Malvina Wins Through ', '1230839327111')\n",
      "(51, 'In Joey Goes to Oberland: Audrey Wins the Trick and Dora of the Lower Fifth ', '1237588408519')\n",
      "(52, 'In The Chalet School and the Island: The Sea Parrot ', '1236495378720')\n",
      "(53, 'In The Chalet School in Exile: Tessa in Tyrol ', '1236588981768')\n",
      "(54, 'In The Mystery at the Chalet School: The Leader of the Lost Cause ', '1231308608691')\n",
      "(55, \"In The New Mistress at the Chalet School: King's Soldier Maid and Swords Crossed \", '1230312140169')\n",
      "(56, 'In A Problem for the Chalet School: A Royalist Soldier-Maid and Werner of the Alps ', '1230967619568')\n",
      "(57, 'In Three Go to the Chalet School: Lavender Laughs in Kashmir ', '1230127072745')\n",
      "(58, 'In Tom Tackles the Chalet School: The Fugitive of the Salt Cave and The Secret House ', '1234238103911')\n",
      "(59, 'In Two Sams at the Chalet School: Swords for the King! ', '1230886230089')\n",
      "(60, 'In Maids of La Rochelle: Guernsey Folk Tales ', '1233675376783')\n",
      "(61, 'Bacon Death ', '1236766330719')\n",
      "(62, 'Breakfast First ', '1236432913317')\n",
      "(63, 'The Culinary Dostoevski ', '1234582103529')\n",
      "(64, 'The Egg Laid Twice ', '1236148226462')\n",
      "(65, 'He Kissed All Night ', '1237321964604')\n",
      "(66, 'A History of Nebraska ', '1239609581078')\n",
      "(67, 'Hombre ', '1235105625585')\n",
      "(68, \"It's the Queen of Darkness Pal \", '1237435357811')\n",
      "(69, 'Jack The Story of a Cat ', '1233766820792')\n",
      "(70, 'Leather Clothes and the History of Man ', '1236346938182')\n",
      "(71, 'Love Always Beautiful ', '1233800248087')\n",
      "(72, 'Moose ', '1232083986943')\n",
      "(73, 'My Dog ', '1236297974136')\n",
      "(74, 'My Trike ', '1237550454699')\n",
      "(75, 'The Need for Legalized Abortion ', '1238912644528')\n",
      "(76, 'The Other Side of My Hand ', '1239707352212')\n",
      "(77, 'Pancake Pretty ', '1234761413168')\n",
      "(78, \"Printer's Ink \", '1230702325223')\n",
      "(79, 'The Quick Forest ', '1236002513635')\n",
      "(80, 'Sam Sam Sam ', '1239666823646')\n",
      "(81, 'The Stereo and God ', '1231316672178')\n",
      "(82, 'UFO vs. CBS ', '1239778693754')\n",
      "(83, 'Vietnam Victory ', '1237098200581')\n",
      "(84, 'A Sudden Light', '9781439187036')\n",
      "(89, 'Harry Potter And The Order Of The Phoenix', '9780439358071')\n",
      "(90, 'Gone with the Wind', '9780446675536')\n",
      "(91, 'Pride and Prejudice (Modern Library Classics)', '9780679783268')\n",
      "(93, \"Harry Potter And The Philosopher's Stone\", '9781579187036')\n"
     ]
    }
   ],
   "source": [
    "def iter_row(cursor, size=10):\n",
    "    while True:\n",
    "        rows = cursor.fetchmany(size)\n",
    "        if not rows:\n",
    "            break\n",
    "        for row in rows:\n",
    "            yield row\n",
    "            \n",
    "def query_with_fetchmany():\n",
    "    try:\n",
    "        dbconfig = read_db_config()\n",
    "        conn = MySQLConnection(**dbconfig)\n",
    "        cursor = conn.cursor()\n",
    " \n",
    "        cursor.execute(\"SELECT * FROM books\")\n",
    " \n",
    "        for row in iter_row(cursor, 10):\n",
    "            print(row)\n",
    " \n",
    "    except Error as e:\n",
    "        print(e)\n",
    " \n",
    "    finally:\n",
    "        cursor.close()\n",
    "        conn.close()\n",
    "        \n",
    "if __name__ == '__main__':\n",
    "    query_with_fetchmany()"
   ]
  },
  {
   "cell_type": "code",
   "execution_count": null,
   "metadata": {},
   "outputs": [],
   "source": [
    "#Модуль вставки одной строки в определенную таблицу нашей БД:"
   ]
  },
  {
   "cell_type": "code",
   "execution_count": 74,
   "metadata": {},
   "outputs": [
    {
     "name": "stdout",
     "output_type": "stream",
     "text": [
      "last insert id 93\n"
     ]
    }
   ],
   "source": [
    "from mysql.connector import MySQLConnection, Error\n",
    "from python_mysql_dbconfig import read_db_config\n",
    " \n",
    "def insert_book(title, isbn):\n",
    "    query = \"INSERT INTO books(title,isbn)\"\"VALUES(%s,%s)\"\n",
    "    args = (title, isbn)\n",
    " \n",
    "    try:\n",
    "        db_config = read_db_config()\n",
    "        conn = MySQLConnection(**db_config)\n",
    " \n",
    "        cursor = conn.cursor()\n",
    "        cursor.execute(query, args)\n",
    " \n",
    "        if cursor.lastrowid:\n",
    "            print('last insert id', cursor.lastrowid)\n",
    "        else:\n",
    "            print('last insert id not found')\n",
    " \n",
    "        conn.commit()\n",
    "    except Error as error:\n",
    "        print(error)\n",
    " \n",
    "    finally:\n",
    "        cursor.close()\n",
    "        conn.close()\n",
    "\n",
    "def main():\n",
    "    insert_book (\"Harry Potter And The Philosopher's Stone\",'9781579187036')\n",
    "\n",
    "if __name__ == '__main__':\n",
    "    main()"
   ]
  },
  {
   "cell_type": "code",
   "execution_count": null,
   "metadata": {},
   "outputs": [],
   "source": [
    "#Модуль вставки нескольких строк в определенную таблицу нашей БД:"
   ]
  },
  {
   "cell_type": "code",
   "execution_count": 76,
   "metadata": {},
   "outputs": [],
   "source": [
    "from mysql.connector import MySQLConnection, Error\n",
    "from python_mysql_dbconfig import read_db_config\n",
    " \n",
    "def insert_books(books):\n",
    "    query = \"INSERT INTO books(title,isbn)\"\"VALUES(%s,%s)\"\n",
    " \n",
    "    try:\n",
    "        db_config = read_db_config()\n",
    "        conn = MySQLConnection(**db_config)\n",
    " \n",
    "        cursor = conn.cursor()\n",
    "        cursor.executemany(query, books)\n",
    " \n",
    "        conn.commit()\n",
    "    except Error as e:\n",
    "        print('Error:', e)\n",
    " \n",
    "    finally:\n",
    "        cursor.close()\n",
    "        conn.close()\n",
    "\n",
    "def main():\n",
    "    books = [('Harry Potter And The Goblet of Fire', '9780432358071'),\n",
    "             ('Harry Potter And The Prisoner of Azkaban', '9780432740071'),\n",
    "             ('Harry Potter And The Half-Blood Prince', '9747319783268')]\n",
    "    insert_books(books)\n",
    "\n",
    "if __name__ == '__main__':\n",
    "    main()"
   ]
  },
  {
   "cell_type": "code",
   "execution_count": null,
   "metadata": {},
   "outputs": [],
   "source": [
    "#Модуль обновления данных из определенной таблицы нашей БД:"
   ]
  },
  {
   "cell_type": "code",
   "execution_count": 72,
   "metadata": {},
   "outputs": [],
   "source": [
    "from mysql.connector import MySQLConnection, Error\n",
    "from python_mysql_dbconfig import read_db_config\n",
    " \n",
    "def update_book(book_id, title):\n",
    "\n",
    "    db_config = read_db_config()\n",
    " \n",
    "    query = \"\"\" UPDATE books\n",
    "                SET title = %s\n",
    "                WHERE id = %s \"\"\"\n",
    " \n",
    "    data = (title, book_id)\n",
    " \n",
    "    try:\n",
    "        conn = MySQLConnection(**db_config)\n",
    " \n",
    "        cursor = conn.cursor()\n",
    "        cursor.execute(query, data)\n",
    " \n",
    "        conn.commit()\n",
    " \n",
    "    except Error as e:\n",
    "        print('Error:', e)\n",
    " \n",
    "    finally:\n",
    "        cursor.close()\n",
    "        conn.close()\n",
    "        \n",
    "if __name__ == '__main__':\n",
    "    update_book(37, 'The Giant on the Hill *** TEST ***')"
   ]
  },
  {
   "cell_type": "code",
   "execution_count": null,
   "metadata": {},
   "outputs": [],
   "source": [
    "#Модуль удаления данных из определенной таблицы нашей БД:"
   ]
  },
  {
   "cell_type": "code",
   "execution_count": 73,
   "metadata": {},
   "outputs": [],
   "source": [
    "from mysql.connector import MySQLConnection, Error\n",
    "from python_mysql_dbconfig import read_db_config\n",
    " \n",
    "def delete_book(book_id):\n",
    "    db_config = read_db_config()\n",
    " \n",
    "    query = \"DELETE FROM books WHERE id = %s\"\n",
    " \n",
    "    try:\n",
    "        conn = MySQLConnection(**db_config)\n",
    " \n",
    "        cursor = conn.cursor()\n",
    "        cursor.execute(query, (book_id,))\n",
    " \n",
    "        conn.commit()\n",
    " \n",
    "    except Error as error:\n",
    "        print(error)\n",
    " \n",
    "    finally:\n",
    "        cursor.close()\n",
    "        conn.close()\n",
    "\n",
    "if __name__ == '__main__':\n",
    "    delete_book(45)"
   ]
  }
 ],
 "metadata": {
  "kernelspec": {
   "display_name": "Python 3",
   "language": "python",
   "name": "python3"
  },
  "language_info": {
   "codemirror_mode": {
    "name": "ipython",
    "version": 3
   },
   "file_extension": ".py",
   "mimetype": "text/x-python",
   "name": "python",
   "nbconvert_exporter": "python",
   "pygments_lexer": "ipython3",
   "version": "3.6.4"
  }
 },
 "nbformat": 4,
 "nbformat_minor": 2
}
